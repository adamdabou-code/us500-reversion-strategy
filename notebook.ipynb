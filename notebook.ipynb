{
 "cells": [
  {
   "cell_type": "markdown",
   "metadata": {},
   "source": [
    "# US500 Reversion Strategy (15 min)\n",
    "Vyhodnocení win rate > 80 % na reálných datech SPY přes 3bar lookahead"
   ]
  },
  {
   "cell_type": "code",
   "execution_count": null,
   "metadata": {},
   "outputs": [],
   "source": [
    "!pip install yfinance ta pandas numpy matplotlib\n",
    "import yfinance as yf\n",
    "import pandas as pd\n",
    "import numpy as np\n",
    "from ta.volatility import BollingerBands\n",
    "from ta.momentum import RSIIndicator\n",
    "from datetime import datetime, timedelta\n",
    "import matplotlib.pyplot as plt\n"
   ]
  },
  {
   "cell_type": "code",
   "execution_count": null,
   "metadata": {},
   "outputs": [],
   "source": [
    "# 2) Stáhni SPY 15m data za posledních 6 měsíců\n",
    "end   = datetime.now()\n",
    "start = end - timedelta(days=180)\n",
    "df    = yf.download('SPY', start=start, end=end, interval='15m').dropna()\n",
    "df    = df.reset_index().set_index('Datetime')\n"
   ]
  },
  {
   "cell_type": "code",
   "execution_count": null,
   "metadata": {},
   "outputs": [],
   "source": [
    "# 3) Indikátory\n",
    "bb     = BollingerBands(close=df['Close'], window=20, window_dev=2)\n",
    "df['BB_upper'] = bb.bollinger_hband()\n",
    "df['BB_lower'] = bb.bollinger_lband()\n",
    "df['RSI14']    = RSIIndicator(close=df['Close'], window=14).rsi()\n",
    "hl  = df['High'] - df['Low']\n",
    "hc  = (df['High'] - df['Close'].shift()).abs()\n",
    "lc  = (df['Low']  - df['Close'].shift()).abs()\n",
    "tr  = pd.concat([hl, hc, lc], axis=1).max(axis=1)\n",
    "df['ATR14']    = tr.rolling(14).mean()\n",
    "df['VolMA20']  = df['Volume'].rolling(20).mean()\n",
    "df['OBV']      = (np.sign(df['Close'].diff()) * df['Volume']).fillna(0).cumsum()\n"
   ]
  },
  {
   "cell_type": "code",
   "execution_count": null,
   "metadata": {},
   "outputs": [],
   "source": [
    "# 4) Generuj signály\n",
    "long_cond = (\n",
    "    (df['Close'] < df['BB_lower']) &\n",
    "    (df['RSI14']  < 30)          &\n",
    "    (df['Volume'] > df['VolMA20']*1.2) &\n",
    "    (df['OBV']    > df['OBV'].shift())\n",
    ")\n",
    "short_cond = (\n",
    "    (df['Close'] > df['BB_upper']) &\n",
    "    (df['RSI14']  > 70)          &\n",
    "    (df['Volume'] > df['VolMA20']*1.2) &\n",
    "    (df['OBV']    < df['OBV'].shift())\n",
    ")\n",
    "df['signal'] = 0\n",
    "df.loc[long_cond,  'signal'] =  1\n",
    "df.loc[short_cond, 'signal'] = -1\n",
    "entries = df[df['signal']!=0].copy()\n"
   ]
  },
  {
   "cell_type": "code",
   "execution_count": null,
   "metadata": {},
   "outputs": [],
   "source": [
    "# 5) Vyhodnocení win rate (0,5×ATR TP vs 0,25×ATR SL do 3 barů)\n",
    "results = []\n",
    "for idx, row in entries.iterrows():\n",
    "    sig         = row['signal']\n",
    "    price       = row['Close']\n",
    "    atr         = row['ATR14']\n",
    "    future = df['Close'].loc[idx:].iloc[1:4]\n",
    "    if sig==1:\n",
    "        tp = any(future >= price + 0.5*atr)\n",
    "        sl = any(future <= price - 0.25*atr)\n",
    "    else:\n",
    "        tp = any(future <= price - 0.5*atr)\n",
    "        sl = any(future >= price + 0.25*atr)\n",
    "    results.append(1 if tp and not sl else 0)\n",
    "trades   = len(results)\n",
    "wins     = sum(results)\n",
    "win_rate = wins/trades*100 if trades else 0\n",
    "print(f'Trades: {trades}, Wins: {wins}, Win rate: {win_rate:.2f}%')\n"
   ]
  },
  {
   "cell_type": "code",
   "execution_count": null,
   "metadata": {},
   "outputs": [],
   "source": [
    "# 6) Equity křivka\n",
    "equity = 100 + np.cumsum(results)\n",
    "plt.figure(figsize=(8,4))\n",
    "plt.plot(equity)\n",
    "plt.title(f'Win rate: {win_rate:.2f}% — Trades: {trades}')\n",
    "plt.xlabel('Trade #')\n",
    "plt.ylabel('Equity')\n",
    "plt.grid(True)\n",
    "plt.show()\n"
   ]
  }
 ],
 "metadata": {
  "kernelspec": {
   "display_name": "Python 3",
   "language": "python",
   "name": "python3"
  },
  "language_info": {
   "name": "python"
  }
 },
 "nbformat": 4,
 "nbformat_minor": 5
}
